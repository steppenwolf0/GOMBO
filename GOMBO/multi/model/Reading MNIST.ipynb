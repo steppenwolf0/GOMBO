{
 "cells": [
  {
   "cell_type": "code",
   "execution_count": 1,
   "metadata": {},
   "outputs": [],
   "source": [
    "import os\n",
    "import struct\n",
    "import numpy as np\n",
    "import matplotlib.pyplot \n",
    "\n",
    "\"\"\"\n",
    "Loosely inspired by http://abel.ee.ucla.edu/cvxopt/_downloads/mnist.py\n",
    "which is GPL licensed.\n",
    "\"\"\"\n",
    "\n",
    "def read(dataset = \"training\", path = \".\"):\n",
    "    \"\"\"\n",
    "    Python function for importing the MNIST data set.  It returns an iterator\n",
    "    of 2-tuples with the first element being the label and the second element\n",
    "    being a numpy.uint8 2D array of pixel data for the given image.\n",
    "    \"\"\"\n",
    "\n",
    "    if dataset is \"training\":\n",
    "        fname_img = os.path.join(path, 'train-images-idx3-ubyte')\n",
    "        fname_lbl = os.path.join(path, 'train-labels-idx1-ubyte')\n",
    "    elif dataset is \"testing\":\n",
    "        fname_img = os.path.join(path, 't10k-images-idx3-ubyte')\n",
    "        fname_lbl = os.path.join(path, 't10k-labels-idx1-ubyte')\n",
    "    else:\n",
    "        raise ValueError, \"dataset must be 'testing' or 'training'\"\n",
    "\n",
    "    # Load everything in some numpy arrays\n",
    "    with open(fname_lbl, 'rb') as flbl:\n",
    "        magic, num = struct.unpack(\">II\", flbl.read(8))\n",
    "        lbl = np.fromfile(flbl, dtype=np.int8)\n",
    "\n",
    "    with open(fname_img, 'rb') as fimg:\n",
    "        magic, num, rows, cols = struct.unpack(\">IIII\", fimg.read(16))\n",
    "        img = np.fromfile(fimg, dtype=np.uint8).reshape(len(lbl), rows, cols)\n",
    "\n",
    "    get_img = lambda idx: (lbl[idx], img[idx])\n",
    "\n",
    "    # Create an iterator which returns each image in turn\n",
    "    for i in xrange(len(lbl)):\n",
    "        yield get_img(i)\n",
    "\n",
    "def show(image):\n",
    "    \"\"\"\n",
    "    Render a given numpy.uint8 2D array of pixel data.\n",
    "    \"\"\"\n",
    "    from matplotlib import pyplot\n",
    "    import matplotlib as mpl\n",
    "    fig = pyplot.figure()\n",
    "    ax = fig.add_subplot(1,1,1)\n",
    "    imgplot = ax.imshow(image, cmap=mpl.cm.Greys)\n",
    "    imgplot.set_interpolation('nearest')\n",
    "    ax.xaxis.set_ticks_position('top')\n",
    "    ax.yaxis.set_ticks_position('left')\n",
    "    pyplot.show()"
   ]
  },
  {
   "cell_type": "code",
   "execution_count": 2,
   "metadata": {},
   "outputs": [
    {
     "name": "stdout",
     "output_type": "stream",
     "text": [
      "60000\n",
      "8\n",
      "(28, 28)\n"
     ]
    },
    {
     "data": {
      "image/png": "[encoded data removed]",
      "text/plain": [
       "<Figure size 432x288 with 1 Axes>"
      ]
     },
     "metadata": {},
     "output_type": "display_data"
    }
   ],
   "source": [
    "training_data=list(read(dataset='training', path='/home/lopezrin/Desktop/MNIST/data/'))\n",
    "print(len(training_data))\n",
    "label, pixels = training_data[59999]\n",
    "print(label)\n",
    "print(pixels.shape)\n",
    "show(pixels)"
   ]
  },
  {
   "cell_type": "code",
   "execution_count": 3,
   "metadata": {},
   "outputs": [
    {
     "name": "stdout",
     "output_type": "stream",
     "text": [
      "3\n",
      "(28, 28)\n"
     ]
    },
    {
     "data": {
      "image/png": "[encoded data removed]",
      "text/plain": [
       "<Figure size 432x288 with 1 Axes>"
      ]
     },
     "metadata": {},
     "output_type": "display_data"
    }
   ],
   "source": [
    "label, pixels = training_data[10]\n",
    "print(label)\n",
    "print(pixels.shape)\n",
    "show(pixels)"
   ]
  },
  {
   "cell_type": "code",
   "execution_count": 4,
   "metadata": {},
   "outputs": [
    {
     "name": "stdout",
     "output_type": "stream",
     "text": [
      "10000\n",
      "0\n",
      "(28, 28)\n"
     ]
    },
    {
     "data": {
      "image/png": "[encoded data removed]",
      "text/plain": [
       "<Figure size 432x288 with 1 Axes>"
      ]
     },
     "metadata": {},
     "output_type": "display_data"
    }
   ],
   "source": [
    "testing_data=list(read(dataset='testing', path='/home/lopezrin/Desktop/MNIST/data/'))\n",
    "print(len(testing_data))\n",
    "label, pixels = testing_data[750]\n",
    "print(label)\n",
    "print(pixels.shape)\n",
    "show(pixels)"
   ]
  },
  {
   "cell_type": "code",
   "execution_count": 5,
   "metadata": {},
   "outputs": [],
   "source": [
    "from __future__ import print_function\n",
    "import numpy as np\n",
    "import os\n",
    "import sys\n",
    "import tarfile\n",
    "import math\n",
    "import random\n",
    "import sys\n",
    "\n",
    "f = open('./index/'+'0train_index'+'.txt', 'w')\n",
    "for k in range (0000,50000):\n",
    "    f.write(str(k)+'\\n')\n",
    "f.close()"
   ]
  },
  {
   "cell_type": "code",
   "execution_count": 6,
   "metadata": {},
   "outputs": [],
   "source": [
    "from funcCNN import *\n",
    "def crossValB_10_Generic(indexVar,labelSize,vectorSize,examples,maxVal,minVal, inputChannels):\n",
    "\tsize0=inputChannels\n",
    "\n",
    "\tdata=[]\n",
    "\tlabels=[]\n",
    "\t\n",
    "\t#load training data\n",
    "\ttraining_data=list(read(dataset='training', path='/home/lopezrin/Desktop/MNIST/data/'))\n",
    "\tprint(len(training_data))\n",
    "\t#label, pixels = training_data[59999]\n",
    "\t#print(label)\n",
    "\t#print(pixels.shape)\n",
    "\t#show(pixels)\n",
    "\t\n",
    "\tfor i in range (0,60000):\n",
    "\t\tlabel, pixels = training_data[i]\n",
    "\t\tdata.append(pixels)\n",
    "\t\tlabels.append(label)\n",
    "\n",
    "\t\n",
    "\n",
    "\t#load testing data\n",
    "\ttesting_data=list(read(dataset='testing', path='/home/lopezrin/Desktop/MNIST/data/'))\n",
    "\tprint(len(testing_data))\n",
    "\t\n",
    "\tfor i in range (0,10000):\n",
    "\t\tlabel, pixels = testing_data[i]\n",
    "\t\tdata.append(pixels)\n",
    "\t\tlabels.append(label)\n",
    "\tdata=np.array(data)\n",
    "\tprint('data set', data.shape)\n",
    "\t#8\n",
    "\tshow(data[59999])\n",
    "\t#3\n",
    "   \tshow(data[10])\n",
    "\t#0\n",
    "   \tshow(data[60750])\n",
    "    \n",
    "\n",
    "\ttestIndex=openVector('/home/lopezrin/Desktop/MNIST/index/'+str(indexVar)+'test_index.txt')\n",
    "\tvalIndex=openVector('/home/lopezrin/Desktop/MNIST/index/'+str(indexVar)+'val_index.txt')\n",
    "\ttrainIndex=openVector('/home/lopezrin/Desktop/MNIST/index/'+str(indexVar)+'train_index.txt')\n",
    "\t\n",
    "\ttestIndex=testIndex.astype(int)\n",
    "\tvalIndex=valIndex.astype(int)\n",
    "\ttrainIndex=trainIndex.astype(int)\n",
    "\t\t\n",
    "\ttrain=[]\n",
    "\ttest=[]\n",
    "\tvalid=[]\n",
    "\t\n",
    "\t\n",
    "\ttrainLabels=[]\n",
    "\ttestLabels=[]\n",
    "\tvalidLabels=[]\n",
    "\t#test***************************************************************************\n",
    "\tfor i in range (0,len(testIndex)):\n",
    "\t\ttestLabels.append(labels[testIndex[i]])\n",
    "\t\ttemp=[]\n",
    "\t\tfor j in range (0,len(data[0])):\n",
    "\t\t\tfor k in range (0,len(data[0][0])):\n",
    "\t\t\t\tif(data[testIndex[i]][j][k]>maxVal):\n",
    "\t\t\t\t\ttemp.append(maxVal)\n",
    "\t\t\t\telif(data[testIndex[i]][j][k]<minVal):\n",
    "\t\t\t\t\ttemp.append(minVal)\n",
    "\t\t\t\telse:\n",
    "\t\t\t\t\ttemp.append((data[testIndex[i]][j][k]-minVal)/(maxVal-minVal))\n",
    "\t\ttest.append(temp)\n",
    "\t#valid***************************************************************************\n",
    "\tfor i in range (0,len(valIndex)):\n",
    "\t\tvalidLabels.append(labels[valIndex[i]])\n",
    "\t\ttemp=[]\n",
    "\t\tfor j in range (0,len(data[0])):\n",
    "\n",
    "\t\t\tfor k in range (0,len(data[0][0])):\n",
    "\t\t\t\tif(data[valIndex[i]][j][k]>maxVal):\n",
    "\t\t\t\t\ttemp.append(maxVal)\n",
    "\t\t\t\telif(data[valIndex[i]][j][k]<minVal):\n",
    "\t\t\t\t\ttemp.append(minVal)\n",
    "\t\t\t\telse:\n",
    "\t\t\t\t\ttemp.append((data[valIndex[i]][j][k]-minVal)/(maxVal-minVal))\n",
    "\t\tvalid.append(temp)\n",
    "\t#train***************************************************************************\n",
    "\tfor i in range (0,len(trainIndex)):\n",
    "\t\ttrainLabels.append(labels[trainIndex[i]])\n",
    "\t\ttemp=[]\n",
    "\t\tfor j in range (0,len(data[0])):\n",
    "\n",
    "\t\t\tfor k in range (0,len(data[0][0])):\n",
    "\t\t\t\t\n",
    "\t\t\t\tif(data[trainIndex[i]][j][k]>maxVal):\n",
    "\t\t\t\t\ttemp.append(maxVal)\n",
    "\t\t\t\telif(data[trainIndex[i]][j][k]<minVal):\n",
    "\t\t\t\t\ttemp.append(minVal)\n",
    "\t\t\t\telse:\n",
    "\t\t\t\t\ttemp.append((data[trainIndex[i]][j][k]-minVal)/(maxVal-minVal))\n",
    "\t\ttrain.append(temp)\n",
    "\t\n",
    "\ttest=np.array(test)\n",
    "\ttestLabels=np.array(testLabels)\n",
    "\n",
    "\tvalid=np.array(valid)\n",
    "\tvalidLabels=np.array(validLabels)\n",
    "\t\n",
    "\ttrain=np.array(train)\n",
    "\ttrainLabels=np.array(trainLabels)\n",
    "\t\n",
    "\tprint(train.shape)\n",
    "\tprint(trainLabels.shape)\n",
    "\tprint(valid.shape)\n",
    "\tprint(validLabels.shape)\n",
    "\tprint(test.shape)\n",
    "\tprint(testLabels.shape)\n",
    "\n",
    "\n",
    "\toneHot_train_labels=oneHot(trainLabels,labelSize)\n",
    "\tprint(oneHot_train_labels.shape)\n",
    "\n",
    "\t#train_dataset_Flat=compressArray(train,vectorSize)\n",
    "\t#print(train_dataset_Flat.shape)\n",
    "\n",
    "\toneHot_valid_labels=oneHot(validLabels,labelSize)\n",
    "\tprint(oneHot_valid_labels.shape)\n",
    "\n",
    "\t#valid_dataset_Flat=compressArray(valid,vectorSize)\n",
    "\t#print(valid_dataset_Flat.shape)\n",
    "\n",
    "\toneHot_test_labels=oneHot(testLabels,labelSize)\n",
    "\tprint(oneHot_test_labels.shape)\n",
    "\n",
    "\t#test_dataset_Flat=compressArray(test,vectorSize)\n",
    "\t#print(test_dataset_Flat.shape)\n",
    "\n",
    "\treturn(test,oneHot_test_labels,valid,oneHot_valid_labels,train,oneHot_train_labels)"
   ]
  },
  {
   "cell_type": "code",
   "execution_count": null,
   "metadata": {},
   "outputs": [
    {
     "name": "stdout",
     "output_type": "stream",
     "text": [
      "60000\n",
      "10000\n",
      "data set (70000, 28, 28)\n"
     ]
    },
    {
     "data": {
      "image/png": "[encoded data removed]",
      "text/plain": [
       "<Figure size 432x288 with 1 Axes>"
      ]
     },
     "metadata": {},
     "output_type": "display_data"
    },
    {
     "data": {
      "image/png": "[encoded data removed]",
      "text/plain": [
       "<Figure size 432x288 with 1 Axes>"
      ]
     },
     "metadata": {},
     "output_type": "display_data"
    },
    {
     "data": {
      "image/png": "[encoded data removed]",
      "text/plain": [
       "<Figure size 432x288 with 1 Axes>"
      ]
     },
     "metadata": {},
     "output_type": "display_data"
    },
    {
     "name": "stdout",
     "output_type": "stream",
     "text": [
      "(10000,)\n",
      "(10000,)\n",
      "(50000,)\n"
     ]
    }
   ],
   "source": [
    "crossValB_10_Generic(0,0,0,0,255,0, 1)\n"
   ]
  },
  {
   "cell_type": "code",
   "execution_count": null,
   "metadata": {},
   "outputs": [],
   "source": []
  }
 ],
 "metadata": {
  "kernelspec": {
   "display_name": "Python 2",
   "language": "python",
   "name": "python2"
  },
  "language_info": {
   "codemirror_mode": {
    "name": "ipython",
    "version": 2
   },
   "file_extension": ".py",
   "mimetype": "text/x-python",
   "name": "python",
   "nbconvert_exporter": "python",
   "pygments_lexer": "ipython2",
   "version": "2.7.12"
  }
 },
 "nbformat": 4,
 "nbformat_minor": 2
}
